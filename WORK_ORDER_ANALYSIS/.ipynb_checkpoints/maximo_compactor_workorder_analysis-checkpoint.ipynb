{
 "cells": [
  {
   "cell_type": "markdown",
   "metadata": {},
   "source": [
    "## WMP Maximo compactor analysis"
   ]
  },
  {
   "cell_type": "code",
   "execution_count": 1,
   "metadata": {},
   "outputs": [],
   "source": [
    "#imports\n",
    "import pandas as pd\n",
    "import numpy as np\n",
    "import matplotlib.ticker as ticker\n",
    "import matplotlib.cm as cm\n",
    "import matplotlib as mpl\n",
    "from matplotlib.gridspec import GridSpec\n",
    "import matplotlib.pyplot as plt\n",
    "import seaborn as sns\n",
    "from textwrap import wrap"
   ]
  },
  {
   "cell_type": "code",
   "execution_count": 2,
   "metadata": {},
   "outputs": [],
   "source": [
    "#set to display full column\n",
    "pd.set_option('display.max_columns', None)"
   ]
  },
  {
   "cell_type": "markdown",
   "metadata": {},
   "source": [
    "DATA CLEANING/CATEGORIZATION PROCESS (DEPRECATED)\n",
    "\n",
    "1. Check data type for each column and make necessary conversions (i.e. datetime)\n",
    "2. Split LOCATION string based on period into new columns\n",
    "3. Move GND01 entries to ROOM column\n",
    "4. Concatenate problem and failure columns\n",
    "5. Export unique problem+failure entries\n",
    "6. Manually classify problemandfailure codes based on observation and count of entries into:\n",
    "    1. BULK\n",
    "    2. INTCOMPACTOR\n",
    "    3. EXTCOMPACTOR\n",
    "    4. PESTS\n",
    "    5. PAINT\n",
    "    6. PLUMBING\n",
    "    7. DOOR\n",
    "    8. ELEC\n",
    "    9. LIGHT\n",
    "    10. OTHER\n",
    "7. Add categorizations back into main dataframe\n",
    "8. Export miscategorized compactor entries for manual reclassification (403 interior compactor entries located in 'GROUNDS')\n",
    "9. Join (overwrite using .update) manually corrected miscategorized compactor entries\n",
    "10. Write cleaned csv file for analysis"
   ]
  },
  {
   "cell_type": "code",
   "execution_count": null,
   "metadata": {},
   "outputs": [],
   "source": [
    "# #load csv\n",
    "# comp_data_raw = pd.read_csv(\"comp_raw.csv\")"
   ]
  },
  {
   "cell_type": "code",
   "execution_count": null,
   "metadata": {},
   "outputs": [],
   "source": [
    "##1A. Checking data types before processing to avoid errors\n",
    "# print(comp_data_raw.dtypes) "
   ]
  },
  {
   "cell_type": "code",
   "execution_count": null,
   "metadata": {},
   "outputs": [],
   "source": [
    "# #1B. Convert date columns to datetime\n",
    "# comp_data_raw[\"REPORTDATE\"] = pd.to_datetime(comp_data_raw[\"REPORTDATE\"])\n",
    "# comp_data_raw[\"ZZCREATEDATE\"] = pd.to_datetime(comp_data_raw[\"ZZCREATEDATE\"])\n",
    "# comp_data_raw[\"SCHEDSTART\"] = pd.to_datetime(comp_data_raw[\"SCHEDSTART\"],errors='coerce')\n",
    "# comp_data_raw[\"TARGSTARTDATE\"] = pd.to_datetime(comp_data_raw[\"TARGSTARTDATE\"], errors='coerce')\n",
    "# comp_data_raw[\"ACTSTART\"] = pd.to_datetime(comp_data_raw[\"ACTSTART\"])\n",
    "# comp_data_raw[\"ACTFINISH\"] = pd.to_datetime(comp_data_raw[\"ACTFINISH\"])\n",
    "# comp_data_raw[\"STATUSDATE\"] = pd.to_datetime(comp_data_raw[\"STATUSDATE\"])"
   ]
  },
  {
   "cell_type": "code",
   "execution_count": null,
   "metadata": {},
   "outputs": [],
   "source": [
    "##1C. Save data types to variable to check later if you're bugging out\n",
    "##Deprecated\n",
    "# data_types = comp_data_raw.dtypes"
   ]
  },
  {
   "cell_type": "code",
   "execution_count": null,
   "metadata": {},
   "outputs": [],
   "source": [
    "# ## 2. Split \"LOCATION\"\n",
    "# # KEY: 0 - TDS, 1 - BUILDING, 2 - STAIRHALL, 3 - ROOM\n",
    "# # new data frame with split value columns \n",
    "# split_loc = comp_data_raw[\"LOCATION\"].str.split(\".\", expand = True) \n",
    "# # assign new columns based on split\n",
    "# comp_data_raw[\"TDS\"]= split_loc[0] \n",
    "# comp_data_raw[\"BUILDING\"]= split_loc[1]\n",
    "# comp_data_raw[\"STAIRHALL\"]= split_loc[2] \n",
    "# comp_data_raw[\"ROOM\"]= split_loc[3] "
   ]
  },
  {
   "cell_type": "code",
   "execution_count": null,
   "metadata": {},
   "outputs": [],
   "source": [
    "# #3A. Copy GND01 and erase GND01 from BUILDING column\n",
    "# comp_data_raw[\"ROOM\"] = np.where(comp_data_raw.BUILDING.str.contains(\"GND01\")== True, \"GND01\", comp_data_raw[\"ROOM\"])\n",
    "# comp_data_raw[\"BUILDING\"] = np.where(comp_data_raw.BUILDING.str.contains('GND01') == True, \"\", comp_data_raw[\"BUILDING\"])"
   ]
  },
  {
   "cell_type": "code",
   "execution_count": null,
   "metadata": {},
   "outputs": [],
   "source": [
    "# #3B. Copy GND01 to ROOM column and erase GND01 from STAIRHALL column\n",
    "# comp_data_raw[\"ROOM\"] = np.where(comp_data_raw.STAIRHALL.str.contains(\"GND01\")== True, \"GND01\", comp_data_raw[\"ROOM\"])\n",
    "# comp_data_raw[\"STAIRHALL\"] = np.where(comp_data_raw.STAIRHALL.str.contains('GND01') == True, \"\", comp_data_raw[\"STAIRHALL\"])"
   ]
  },
  {
   "cell_type": "code",
   "execution_count": null,
   "metadata": {
    "scrolled": true
   },
   "outputs": [],
   "source": [
    "# #4. Concatenate problem and failure code\n",
    "# comp_data_raw['PROBLEMANDFAILURE'] = comp_data_raw['PROBLEMCODE'] + comp_data_raw['FAILURECODE']"
   ]
  },
  {
   "cell_type": "code",
   "execution_count": null,
   "metadata": {},
   "outputs": [],
   "source": [
    "##5A. Create new df to output problem and failure codes\n",
    "##DEPRECATED\n",
    "#new_df = comp_data_raw.PROBLEMANDFAILURE.value_counts().rename_axis(\"unique_values\").reset_index(name=\"counts\")"
   ]
  },
  {
   "cell_type": "code",
   "execution_count": null,
   "metadata": {},
   "outputs": [],
   "source": [
    "##5B. Export to csv \n",
    "##DEPRECATED\n",
    "#new_df.to_csv(r'datadict.csv', index = False)"
   ]
  },
  {
   "cell_type": "code",
   "execution_count": null,
   "metadata": {},
   "outputs": [],
   "source": [
    "## 6. Explanation of manual classification [NOT COMPLETED]:\n",
    "## 1. BULK -- \n",
    "## 2. INTCOMPACTOR -- \n",
    "## 3. EXTCOMPACTOR --\n",
    "## 4. PESTS --\n",
    "## 5. PAINT --\n",
    "## 6. PLUMBING --\n",
    "## 7. DOOR --\n",
    "## 8. ELEC --\n",
    "## 9. LIGHT --\n",
    "## 10. OTHER --"
   ]
  },
  {
   "cell_type": "code",
   "execution_count": null,
   "metadata": {},
   "outputs": [],
   "source": [
    "# # 7A. Import manual work order categorizations\n",
    "# work_ord_cat = pd.read_csv(\"workorder_data_dictionary.csv\")"
   ]
  },
  {
   "cell_type": "code",
   "execution_count": null,
   "metadata": {},
   "outputs": [],
   "source": [
    "# # 7B. Create blank dictionary w/ keys\n",
    "# cat_dict = {\"BULK\":[],\"INTCOMPACTOR\":[],\"EXTCOMPACTOR\":[],\"PESTS\":[],\"PAINT\":[], \"PLUMBING\":[],\"DOOR\":[],\"ELEC\":[],\"LIGHT\":[],\"OTHER\":[]}"
   ]
  },
  {
   "cell_type": "code",
   "execution_count": null,
   "metadata": {},
   "outputs": [],
   "source": [
    "# # 7C. Iterate over rows and add unique codes to dictionary based on key value\n",
    "# for i in range(len(work_ord_cat)): \n",
    "#     cat_dict[work_ord_cat.loc[i, \"CATEGORY\"]].append(work_ord_cat.loc[i, \"PROBLEMCODE_FAILURECODE_unique\"]) "
   ]
  },
  {
   "cell_type": "code",
   "execution_count": null,
   "metadata": {},
   "outputs": [],
   "source": [
    "# # 7D. Create blank category column in raw data df\n",
    "# comp_data_raw[\"CATEGORY\"] = \"\""
   ]
  },
  {
   "cell_type": "code",
   "execution_count": null,
   "metadata": {},
   "outputs": [],
   "source": [
    "# # 7E. Test for equivalency PROBLEMANDFAILURE column == category dictionary and add categorization to empty \"CATEGORY\" column\n",
    "# for key, value in cat_dict.items():\n",
    "#     for item in value:\n",
    "#         comp_data_raw[\"CATEGORY\"] = np.where(comp_data_raw.PROBLEMANDFAILURE.str.contains(item, regex = False) == True, key, comp_data_raw[\"CATEGORY\"])\n"
   ]
  },
  {
   "cell_type": "code",
   "execution_count": null,
   "metadata": {},
   "outputs": [],
   "source": [
    "## 7F. Testing For Success of categorization process TM\n",
    "## DEPRECATED\n",
    "#np.where(comp_data_raw[\"CATEGORY\"] == '')"
   ]
  },
  {
   "cell_type": "code",
   "execution_count": null,
   "metadata": {},
   "outputs": [],
   "source": [
    "# ## 7G. Fix mistakes :/\n",
    "# #print(comp_data_raw.loc[15546,'PROBLEMANDFAILURE'])\n",
    "# #print(comp_data_raw.loc[23014,'PROBLEMANDFAILURE'])\n",
    "# comp_data_raw.loc[15546,'CATEGORY'] = 'PAINT'\n",
    "# comp_data_raw.loc[23014,'CATEGORY'] = 'OTHER'"
   ]
  },
  {
   "cell_type": "code",
   "execution_count": null,
   "metadata": {},
   "outputs": [],
   "source": [
    "## 8A. Export interior compactors where CATEGORY == INTCOMPACTOR & ROOM == GND01\n",
    "##DEPRECATED\n",
    "#miscat_comp = comp_data_raw[(comp_data_raw.CATEGORY == \"INTCOMPACTOR\") & (comp_data_raw.ROOM == \"GND01\")]\n",
    "#miscat_comp.to_csv(r'miscat_comp.csv', index = False)"
   ]
  },
  {
   "cell_type": "code",
   "execution_count": null,
   "metadata": {},
   "outputs": [],
   "source": [
    "#8B. Manually correct 403 miscategorized entries. File is saved as miscat_comp.csv. Explanation of process:\n",
    "#1. If basement, room, or interior compactor is entered anywhere, leave as INTCOMPACTOR and change \"ROOM\" column to \"Unknown - Originally entered as 'GND01'\"\n",
    "#2. Else, change \"CATEGORY\" to 'EXTCOMPACTOR'\n",
    "#3. Cross-check with Dev Data_ Use this one.xlsx spreadsheet to ensure exterior compactors exist at development\n",
    "#4. If 'NOISYCOMPACTOR' is in the problem or failurecode, examine other columns to ensure it is actually an external compactor"
   ]
  },
  {
   "cell_type": "code",
   "execution_count": null,
   "metadata": {},
   "outputs": [],
   "source": [
    "# #9A. Join re-categorized data to comp_data_raw\n",
    "# recat_comp = pd.read_csv(\"miscat_comp.csv\")\n",
    "# comp_data_raw.update(recat_comp)"
   ]
  },
  {
   "cell_type": "code",
   "execution_count": null,
   "metadata": {},
   "outputs": [],
   "source": [
    "# #9B. Reset date columns to datetime\n",
    "# comp_data_raw[\"REPORTDATE\"] = pd.to_datetime(comp_data_raw[\"REPORTDATE\"])\n",
    "# comp_data_raw[\"ZZCREATEDATE\"] = pd.to_datetime(comp_data_raw[\"ZZCREATEDATE\"])\n",
    "# comp_data_raw[\"SCHEDSTART\"] = pd.to_datetime(comp_data_raw[\"SCHEDSTART\"],errors='coerce')\n",
    "# comp_data_raw[\"TARGSTARTDATE\"] = pd.to_datetime(comp_data_raw[\"TARGSTARTDATE\"], errors='coerce')\n",
    "# comp_data_raw[\"ACTSTART\"] = pd.to_datetime(comp_data_raw[\"ACTSTART\"])\n",
    "# comp_data_raw[\"ACTFINISH\"] = pd.to_datetime(comp_data_raw[\"ACTFINISH\"])\n",
    "# comp_data_raw[\"STATUSDATE\"] = pd.to_datetime(comp_data_raw[\"STATUSDATE\"])"
   ]
  },
  {
   "cell_type": "code",
   "execution_count": null,
   "metadata": {},
   "outputs": [],
   "source": [
    "# #10. Write cleaned file\n",
    "# comp_data_raw.to_csv(r'comp_clnd.csv',index = False)"
   ]
  },
  {
   "cell_type": "markdown",
   "metadata": {},
   "source": [
    "MAXIMO COMPACTOR CATEGORY SUMMARY STATISTICS PROCESS"
   ]
  },
  {
   "cell_type": "markdown",
   "metadata": {},
   "source": [
    "Setup\n",
    "1. Import 'comp_clnd.csv', set datetime, save datatypes\n",
    "2. Group comp_clnd on consolidation, tds, and category to get the sums of each category for each development - tds_cat_grp\n",
    "3. Pivot table the groupby tds_cat_grp to get columns for each type of work order category\n",
    "4. Create list of categories for plotting\n",
    "\n",
    "Consolidation Summary Stats Process\n",
    "1. Groupby consolidation\n",
    "2. Set up seaborn settings\n",
    "3. For loop through df and export bar charts of category counts\n",
    "\n",
    "Development Summary Stats Process\n",
    "1. Create list of unique consolidations tds numbers\n",
    "2. For loop through unique list returning dataframes == unique value\n",
    "    3. For loop through each row for each development\n",
    "        4. Drop columns with just one or less category\n",
    "        \n",
    "Room Location Summary Stats Process\n",
    "1. "
   ]
  },
  {
   "cell_type": "code",
   "execution_count": 3,
   "metadata": {},
   "outputs": [
    {
     "name": "stderr",
     "output_type": "stream",
     "text": [
      "C:\\Users\\Justin\\anaconda3\\lib\\site-packages\\IPython\\core\\interactiveshell.py:3063: DtypeWarning: Columns (46) have mixed types.Specify dtype option on import or set low_memory=False.\n",
      "  interactivity=interactivity, compiler=compiler, result=result)\n"
     ]
    }
   ],
   "source": [
    "#1A. Import comp_clnd.csv\n",
    "comp = pd.read_csv(\"comp_clnd.csv\")\n",
    "\n",
    "#1B. Change to datetime and change TDS nums to int32\n",
    "comp[\"REPORTDATE\"] = pd.to_datetime(comp[\"REPORTDATE\"])\n",
    "comp[\"ZZCREATEDATE\"] = pd.to_datetime(comp[\"ZZCREATEDATE\"])\n",
    "comp[\"SCHEDSTART\"] = pd.to_datetime(comp[\"SCHEDSTART\"],errors='coerce')\n",
    "comp[\"TARGSTARTDATE\"] = pd.to_datetime(comp[\"TARGSTARTDATE\"], errors='coerce')\n",
    "comp[\"ACTSTART\"] = pd.to_datetime(comp[\"ACTSTART\"])\n",
    "comp[\"ACTFINISH\"] = pd.to_datetime(comp[\"ACTFINISH\"])\n",
    "comp[\"STATUSDATE\"] = pd.to_datetime(comp[\"STATUSDATE\"])\n",
    "comp.CONSOLIDATED_TDS_NUM = comp.CONSOLIDATED_TDS_NUM.astype('int32')\n",
    "comp.TDS_NUM = comp.TDS_NUM.astype('int32')\n",
    "comp.TDS = comp.TDS.astype('int32')\n",
    "#1C. Save data types to variable to check later if you're bugging out\n",
    "data_types = comp.dtypes"
   ]
  },
  {
   "cell_type": "code",
   "execution_count": 4,
   "metadata": {},
   "outputs": [],
   "source": [
    "#2. Group comp_clnd by consolidation, tds, num for both tds and consolidations \n",
    "#   to get the sums of each kind of category for each TDS\n",
    "tds_cat_grp = comp.groupby(['CONSOLIDATED_TDS_NUM', 'CONSOLIDATED_NAME','TDS_NUM','DEVELOPMENT_NAME','CATEGORY']).size().reset_index(name='Freq')"
   ]
  },
  {
   "cell_type": "code",
   "execution_count": 5,
   "metadata": {},
   "outputs": [],
   "source": [
    "#3. Pivot tds_cat_grp to create columns for each type of compactor category\n",
    "tds_cats_cnt = tds_cat_grp.pivot_table(index=['CONSOLIDATED_TDS_NUM', 'CONSOLIDATED_NAME','TDS_NUM','DEVELOPMENT_NAME'], columns='CATEGORY', values='Freq').reset_index().rename_axis(None, axis=1)\n",
    "#fill na with 0 for graphs\n",
    "tds_cats_cnt = tds_cats_cnt.fillna(0)\n",
    "#change all floats to int\n",
    "tds_cats_cnt[tds_cats_cnt.columns[4:14]] = tds_cats_cnt[tds_cats_cnt.columns[4:14]].astype(int)\n",
    "#Reset column order\n",
    "tds_cats_cnt = tds_cats_cnt[[\"CONSOLIDATED_NAME\", \"CONSOLIDATED_TDS_NUM\", \"DEVELOPMENT_NAME\", \"TDS_NUM\", \"INTCOMPACTOR\",\"EXTCOMPACTOR\", \"PESTS\", \"PLUMBING\", \"PAINT\", \"BULK\", \"DOOR\", \"ELEC\", \"LIGHT\",\"OTHER\"]]\n",
    "#Rename columns for legibility\n",
    "tds_cats_cnt = tds_cats_cnt.rename(columns={'INTCOMPACTOR': 'Interior Compactor', 'EXTCOMPACTOR': 'Exterior Compactor', 'PESTS': 'Pests', 'PLUMBING':'Plumbing','ELEC': 'Electricity', 'LIGHT':'Lights', 'PAINT':'Painting', 'DOOR':'Door', 'BULK':'Bulk', 'OTHER': 'Other'})\n",
    "#taking categories and turning into a list for graphs\n",
    "cat_lst = list(tds_cats_cnt.columns[4:14])"
   ]
  },
  {
   "cell_type": "markdown",
   "metadata": {},
   "source": [
    "Consolidation Summary Stats"
   ]
  },
  {
   "cell_type": "code",
   "execution_count": null,
   "metadata": {},
   "outputs": [],
   "source": [
    "# #1. Groupby consolidation and sum category columns\n",
    "# consol_cats_cnt = tds_cats_cnt.groupby(['CONSOLIDATED_TDS_NUM', 'CONSOLIDATED_NAME']).sum().reset_index().drop(columns=[\"TDS_NUM\"])"
   ]
  },
  {
   "cell_type": "code",
   "execution_count": null,
   "metadata": {},
   "outputs": [],
   "source": [
    "# #2. Setup for plotting - set style and create custom color palette\n",
    "\n",
    "# #set style\n",
    "# sns.set(style=\"whitegrid\")\n",
    "\n",
    "# #custom color pallette (connected commmunities color palette)\n",
    "# con_colors = ['#587EBF', '#548F8F', '#FD765B', '#C86FB4','#8FC7A1', '#AEE9FA']\n",
    "# #setting palette\n",
    "# sns.set_palette(sns.color_palette(con_colors))\n"
   ]
  },
  {
   "cell_type": "code",
   "execution_count": null,
   "metadata": {},
   "outputs": [],
   "source": [
    "# #3. Loop through every row and create a graph based on consolidation information\n",
    "# for ind in range(len(cons_cat)):\n",
    "#     #zip data to axes\n",
    "#     ax = sns.barplot(x=cat_lst,y=consol_cats_cnt.iloc[ind,2:12])\n",
    "#     #set axis titles\n",
    "#     ax.set(xlabel=\"Work Type\", ylabel = \"# of Work Orders\")\n",
    "#     #set tick label rotation to display full label\n",
    "#     ax.set_xticklabels(ax.get_xticklabels(), rotation=40, ha=\"right\")\n",
    "#     #set titles\n",
    "#     ax.set_title('\\n'.join(wrap(consol_cats_cnt.iloc[ind,1]+\" Consolidation Work Orders in Compactor Locations 1/1/2019-7/1/2020\")))\n",
    "#     #honestly not sure this is changing anything but hell, a tighter graph would be great\n",
    "#     plt.tight_layout()\n",
    "#     #saving as svg\n",
    "#     plt.savefig('Consolidation_BarCharts/svg/'+str(consol_cats_cnt.iloc[ind,0])+'_'+consol_cats_cnt.iloc[ind,1]+'_WorkOrder_Category_BarChart.svg')\n",
    "#     #saving as png\n",
    "#     plt.savefig('Consolidation_BarCharts/png/'+str(consol_cats_cnt.iloc[ind,0])+'_'+consol_cats_cnt.iloc[ind,1]+'_WorkOrder_Category_BarChart.png', dpi=300)\n",
    "#     #closing axes, and figure etc\n",
    "#     plt.cla()\n",
    "#     plt.clf()"
   ]
  },
  {
   "cell_type": "markdown",
   "metadata": {
    "scrolled": true
   },
   "source": [
    "Development Summary Stats"
   ]
  },
  {
   "cell_type": "code",
   "execution_count": 7,
   "metadata": {},
   "outputs": [],
   "source": [
    "#1. Setup for plotting - set style and create custom color palette\n",
    "\n",
    "#set style\n",
    "sns.set(style=\"whitegrid\")\n",
    "\n",
    "#custom color pallette (connected commmunities color palette)\n",
    "con_colors = ['#587EBF', '#548F8F', '#FD765B', '#C86FB4','#8FC7A1', '#AEE9FA']\n",
    "#setting palette\n",
    "sns.set_palette(sns.color_palette(con_colors))\n"
   ]
  },
  {
   "cell_type": "code",
   "execution_count": 9,
   "metadata": {},
   "outputs": [],
   "source": [
    "# #2. Iterate through and export graphs\n",
    "# #iterating through unique consolidation numbers\n",
    "# for consol_num in tds_cats_cnt.CONSOLIDATED_TDS_NUM.unique().tolist():\n",
    "#     #testing if the consolidation only has one development in it\n",
    "#     if len(tds_cats_cnt.loc[tds_cats_cnt['CONSOLIDATED_TDS_NUM'] == consol_num]) == 1:\n",
    "#         pass\n",
    "#     else:\n",
    "#         #creating df of the consolidation\n",
    "#         consol_df = tds_cats_cnt.loc[tds_cats_cnt['CONSOLIDATED_TDS_NUM'] == consol_num].reset_index(drop=True)\n",
    "#         #iterating through every row\n",
    "#         for ind in range(len(consol_df)):\n",
    "#             #print(str(consol_df.iloc[ind,2]))\n",
    "#             #create dataframe from row\n",
    "#             tds_df = pd.DataFrame(consol_df.loc[ind]).transpose()\n",
    "#             #jettison zero values from row\n",
    "#             tds_df = tds_df.loc[:, (tds_df !=0).any(axis=0)]\n",
    "#             #test if len of dataframe is only one category\n",
    "#             if len(tds_df.iloc[0,4:]) <= 1:\n",
    "#                 pass\n",
    "#             else:\n",
    "#             #create list of categories to zip\n",
    "#                 cats = tds_df.iloc[0,4:].index.tolist()\n",
    "#             #zip data to axes\n",
    "#                 ax = sns.barplot(x=cats,y=tds_df.iloc[0,4:])\n",
    "#             #set axis titles\n",
    "#                 ax.set(xlabel=\"Work Type\", ylabel = \"# of Work Orders\")\n",
    "#             #set tick label rotation to display full label\n",
    "#                 ax.set_xticklabels(ax.get_xticklabels(), rotation=40, ha=\"right\")\n",
    "#             #set titles\n",
    "#                 ax.set_title('\\n'.join(wrap(consol_df.iloc[ind,2].title()+\" Development Work Orders in Compactor Locations 1/1/2019-7/1/2020\")))\n",
    "#             #honestly not sure this is changing anything but hell, a tighter graph would be great\n",
    "#                 plt.tight_layout()\n",
    "#             #saving as svg\n",
    "#                 plt.savefig('Development_BarCharts/svg/'+str(consol_df.iloc[ind,3])+'_'+str(consol_df.iloc[ind,2])+'_WorkOrder_Category_BarChart.svg')\n",
    "#             #saving as png\n",
    "#                 plt.savefig('Development_BarCharts/png/'+str(consol_df.iloc[ind,3])+'_'+str(consol_df.iloc[ind,2])+'_WorkOrder_Category_BarChart.png', dpi=300)\n",
    "#             #closing axes, and figure etc\n",
    "#                 plt.cla()\n",
    "#                 plt.clf()\n"
   ]
  },
  {
   "cell_type": "markdown",
   "metadata": {},
   "source": [
    "Room Location Summary Stats"
   ]
  },
  {
   "cell_type": "code",
   "execution_count": null,
   "metadata": {},
   "outputs": [],
   "source": [
    "#1. Setup for plotting - set style and create custom color palette\n",
    "\n",
    "#set style\n",
    "sns.set(style=\"whitegrid\")\n",
    "\n",
    "#custom color pallette (connected commmunities color palette)\n",
    "con_colors = ['#587EBF', '#548F8F', '#FD765B', '#C86FB4','#8FC7A1', '#AEE9FA']\n",
    "#setting palette\n",
    "sns.set_palette(sns.color_palette(con_colors))"
   ]
  },
  {
   "cell_type": "code",
   "execution_count": 20,
   "metadata": {},
   "outputs": [],
   "source": [
    "#comp\n",
    "tds_rm_grp = comp.groupby(['CONSOLIDATED_TDS_NUM', 'CONSOLIDATED_NAME','TDS_NUM','DEVELOPMENT_NAME','CATEGORY','BUILDING', 'ROOM']).size().reset_index(name='Freq')"
   ]
  },
  {
   "cell_type": "code",
   "execution_count": 23,
   "metadata": {},
   "outputs": [
    {
     "data": {
      "text/html": [
       "<div>\n",
       "<style scoped>\n",
       "    .dataframe tbody tr th:only-of-type {\n",
       "        vertical-align: middle;\n",
       "    }\n",
       "\n",
       "    .dataframe tbody tr th {\n",
       "        vertical-align: top;\n",
       "    }\n",
       "\n",
       "    .dataframe thead th {\n",
       "        text-align: right;\n",
       "    }\n",
       "</style>\n",
       "<table border=\"1\" class=\"dataframe\">\n",
       "  <thead>\n",
       "    <tr style=\"text-align: right;\">\n",
       "      <th></th>\n",
       "      <th>CONSOLIDATED_TDS_NUM</th>\n",
       "      <th>CONSOLIDATED_NAME</th>\n",
       "      <th>TDS_NUM</th>\n",
       "      <th>DEVELOPMENT_NAME</th>\n",
       "      <th>CATEGORY</th>\n",
       "      <th>BUILDING</th>\n",
       "      <th>ROOM</th>\n",
       "      <th>Freq</th>\n",
       "    </tr>\n",
       "  </thead>\n",
       "  <tbody>\n",
       "    <tr>\n",
       "      <th>19</th>\n",
       "      <td>3</td>\n",
       "      <td>Harlem River</td>\n",
       "      <td>3</td>\n",
       "      <td>HARLEM RIVER</td>\n",
       "      <td>INTCOMPACTOR</td>\n",
       "      <td>02</td>\n",
       "      <td>F01</td>\n",
       "      <td>8</td>\n",
       "    </tr>\n",
       "    <tr>\n",
       "      <th>38</th>\n",
       "      <td>3</td>\n",
       "      <td>Harlem River</td>\n",
       "      <td>3</td>\n",
       "      <td>HARLEM RIVER</td>\n",
       "      <td>PAINT</td>\n",
       "      <td>01</td>\n",
       "      <td>F01</td>\n",
       "      <td>8</td>\n",
       "    </tr>\n",
       "    <tr>\n",
       "      <th>39</th>\n",
       "      <td>3</td>\n",
       "      <td>Harlem River</td>\n",
       "      <td>3</td>\n",
       "      <td>HARLEM RIVER</td>\n",
       "      <td>PAINT</td>\n",
       "      <td>02</td>\n",
       "      <td>F01</td>\n",
       "      <td>7</td>\n",
       "    </tr>\n",
       "    <tr>\n",
       "      <th>40</th>\n",
       "      <td>3</td>\n",
       "      <td>Harlem River</td>\n",
       "      <td>3</td>\n",
       "      <td>HARLEM RIVER</td>\n",
       "      <td>PAINT</td>\n",
       "      <td>03</td>\n",
       "      <td>F01</td>\n",
       "      <td>6</td>\n",
       "    </tr>\n",
       "    <tr>\n",
       "      <th>41</th>\n",
       "      <td>3</td>\n",
       "      <td>Harlem River</td>\n",
       "      <td>3</td>\n",
       "      <td>HARLEM RIVER</td>\n",
       "      <td>PAINT</td>\n",
       "      <td>04</td>\n",
       "      <td>F01</td>\n",
       "      <td>8</td>\n",
       "    </tr>\n",
       "    <tr>\n",
       "      <th>...</th>\n",
       "      <td>...</td>\n",
       "      <td>...</td>\n",
       "      <td>...</td>\n",
       "      <td>...</td>\n",
       "      <td>...</td>\n",
       "      <td>...</td>\n",
       "      <td>...</td>\n",
       "      <td>...</td>\n",
       "    </tr>\n",
       "    <tr>\n",
       "      <th>10986</th>\n",
       "      <td>505</td>\n",
       "      <td>Queensbridge North</td>\n",
       "      <td>505</td>\n",
       "      <td>QUEENSBRIDGE NORTH</td>\n",
       "      <td>PESTS</td>\n",
       "      <td>21</td>\n",
       "      <td>COM01</td>\n",
       "      <td>6</td>\n",
       "    </tr>\n",
       "    <tr>\n",
       "      <th>10991</th>\n",
       "      <td>505</td>\n",
       "      <td>Queensbridge North</td>\n",
       "      <td>505</td>\n",
       "      <td>QUEENSBRIDGE NORTH</td>\n",
       "      <td>PESTS</td>\n",
       "      <td>22</td>\n",
       "      <td>COM01</td>\n",
       "      <td>6</td>\n",
       "    </tr>\n",
       "    <tr>\n",
       "      <th>11028</th>\n",
       "      <td>514</td>\n",
       "      <td>Whitman</td>\n",
       "      <td>514</td>\n",
       "      <td>WHITMAN</td>\n",
       "      <td>ELEC</td>\n",
       "      <td>38</td>\n",
       "      <td>F01</td>\n",
       "      <td>7</td>\n",
       "    </tr>\n",
       "    <tr>\n",
       "      <th>11030</th>\n",
       "      <td>514</td>\n",
       "      <td>Whitman</td>\n",
       "      <td>514</td>\n",
       "      <td>WHITMAN</td>\n",
       "      <td>EXTCOMPACTOR</td>\n",
       "      <td>10</td>\n",
       "      <td>GND01</td>\n",
       "      <td>14</td>\n",
       "    </tr>\n",
       "    <tr>\n",
       "      <th>11047</th>\n",
       "      <td>514</td>\n",
       "      <td>Whitman</td>\n",
       "      <td>514</td>\n",
       "      <td>WHITMAN</td>\n",
       "      <td>INTCOMPACTOR</td>\n",
       "      <td>01</td>\n",
       "      <td>COM01</td>\n",
       "      <td>6</td>\n",
       "    </tr>\n",
       "  </tbody>\n",
       "</table>\n",
       "<p>471 rows × 8 columns</p>\n",
       "</div>"
      ],
      "text/plain": [
       "       CONSOLIDATED_TDS_NUM   CONSOLIDATED_NAME  TDS_NUM    DEVELOPMENT_NAME  \\\n",
       "19                        3        Harlem River        3        HARLEM RIVER   \n",
       "38                        3        Harlem River        3        HARLEM RIVER   \n",
       "39                        3        Harlem River        3        HARLEM RIVER   \n",
       "40                        3        Harlem River        3        HARLEM RIVER   \n",
       "41                        3        Harlem River        3        HARLEM RIVER   \n",
       "...                     ...                 ...      ...                 ...   \n",
       "10986                   505  Queensbridge North      505  QUEENSBRIDGE NORTH   \n",
       "10991                   505  Queensbridge North      505  QUEENSBRIDGE NORTH   \n",
       "11028                   514             Whitman      514             WHITMAN   \n",
       "11030                   514             Whitman      514             WHITMAN   \n",
       "11047                   514             Whitman      514             WHITMAN   \n",
       "\n",
       "           CATEGORY BUILDING   ROOM  Freq  \n",
       "19     INTCOMPACTOR       02    F01     8  \n",
       "38            PAINT       01    F01     8  \n",
       "39            PAINT       02    F01     7  \n",
       "40            PAINT       03    F01     6  \n",
       "41            PAINT       04    F01     8  \n",
       "...             ...      ...    ...   ...  \n",
       "10986         PESTS       21  COM01     6  \n",
       "10991         PESTS       22  COM01     6  \n",
       "11028          ELEC       38    F01     7  \n",
       "11030  EXTCOMPACTOR       10  GND01    14  \n",
       "11047  INTCOMPACTOR       01  COM01     6  \n",
       "\n",
       "[471 rows x 8 columns]"
      ]
     },
     "execution_count": 23,
     "metadata": {},
     "output_type": "execute_result"
    }
   ],
   "source": [
    "tds_rm_grp[tds_rm_grp[\"Freq\"]>5]"
   ]
  },
  {
   "cell_type": "code",
   "execution_count": null,
   "metadata": {},
   "outputs": [],
   "source": [
    "#for each development, if a building's room  "
   ]
  }
 ],
 "metadata": {
  "kernelspec": {
   "display_name": "Python 3",
   "language": "python",
   "name": "python3"
  },
  "language_info": {
   "codemirror_mode": {
    "name": "ipython",
    "version": 3
   },
   "file_extension": ".py",
   "mimetype": "text/x-python",
   "name": "python",
   "nbconvert_exporter": "python",
   "pygments_lexer": "ipython3",
   "version": "3.7.6"
  }
 },
 "nbformat": 4,
 "nbformat_minor": 4
}
