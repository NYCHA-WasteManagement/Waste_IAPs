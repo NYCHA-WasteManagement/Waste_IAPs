{
 "cells": [
  {
   "cell_type": "markdown",
   "metadata": {},
   "source": [
    "# Automation Plan\n",
    "\n",
    "\n",
    "- Working from LaTeX template, identify portions of document needing replication\n",
    "- Using current template, create text frame for each portion\n",
    "- Save replicable portions to file\n",
    "- Modify template to include text files, using standardized filenames and TDS numbers"
   ]
  },
  {
   "cell_type": "code",
   "execution_count": 1,
   "metadata": {},
   "outputs": [],
   "source": [
    "import pandas as pd\n",
    "import numpy as np\n",
    "from PIL import Image\n",
    "import os\n",
    "import sys\n",
    "import docx2txt\n",
    "import re"
   ]
  },
  {
   "cell_type": "code",
   "execution_count": 2,
   "metadata": {},
   "outputs": [],
   "source": [
    "os.chdir('/Users/kyleslugg/Documents/NYCHA/Production')"
   ]
  },
  {
   "cell_type": "markdown",
   "metadata": {},
   "source": [
    "## Creating Context Map Parts"
   ]
  },
  {
   "cell_type": "code",
   "execution_count": null,
   "metadata": {},
   "outputs": [],
   "source": [
    "cons_name = \"SUMNER CONSOLIDATED\"\n",
    "cons_tds = '073'"
   ]
  },
  {
   "cell_type": "code",
   "execution_count": 5,
   "metadata": {},
   "outputs": [],
   "source": [
    "image = Image.open(f'REPORT_TEMPLATE/{cons_tds}_context_map.png')"
   ]
  },
  {
   "cell_type": "code",
   "execution_count": 8,
   "metadata": {},
   "outputs": [],
   "source": [
    "width, height = image.size"
   ]
  },
  {
   "cell_type": "code",
   "execution_count": 9,
   "metadata": {},
   "outputs": [],
   "source": [
    "bb1 = (0,0,width/2,height)\n",
    "bb2 = (width/2, 0, width, height)"
   ]
  },
  {
   "cell_type": "code",
   "execution_count": 10,
   "metadata": {},
   "outputs": [],
   "source": [
    "img_1 = image.crop(bb1)\n",
    "img_2 = image.crop(bb2)"
   ]
  },
  {
   "cell_type": "code",
   "execution_count": 15,
   "metadata": {},
   "outputs": [],
   "source": [
    "img_1.save(f'REPORT_TEMPLATE/{cons_tds}_context_1.png', format=\"PNG\")\n",
    "img_2.save(f'REPORT_TEMPLATE/{cons_tds}_context_2.png', format=\"PNG\")"
   ]
  },
  {
   "cell_type": "markdown",
   "metadata": {},
   "source": [
    "## Testing Out Text Imports"
   ]
  },
  {
   "cell_type": "code",
   "execution_count": 26,
   "metadata": {},
   "outputs": [],
   "source": [
    "analysis_text = docx2txt.process(f'TEXT/{cons_tds}_Analysis.docx')"
   ]
  },
  {
   "cell_type": "code",
   "execution_count": 27,
   "metadata": {},
   "outputs": [
    {
     "data": {
      "text/plain": [
       "'Smith Houses Analysis:\\n\\n\\n\\nInspection and Collection Requirements\\xa0\\n\\nSmith Consolidation\\xa0is\\xa0in compliance with inspection and collection requirement of Paragraph 45 of the HUD\\xa0Agreement, according to a Compliance Interview conducted on October 24, 2019. The Supervisor Caretaker, Frederick Brown, reported that staff patrols the grounds for cleaning and maintenance and has sufficient manpower to correct most observed deficiencies. NYCHA caretakers pick up trash inside the buildings one to two times a day, including weekends. They conduction ground inspections more than four times a day, including weekends. They pick up litter from the ground one to two times a day. Daily trash collection begins between 8:00 AM – 10:00 AM and ends before 4:00 PM. Mr. Brown stated that caretakers are usually able to complete all of their tasks in a day.\\xa0\\xa0\\n\\n\\xa0\\n\\nRemoval or Storage Requirement\\xa0\\n\\nSmith Consolidation is in compliance with the storage and removal of Paragraph 45 of the HUD Agreement because they are able to store waste in a manner that prevents pests (e.g., exterior compactors). \\n\\n\\n\\nDSNY comes\\xa0when the EZ Packs are full\\xa0to pick-up\\xa0trash, usually three to four times a week. An average of five to six bulk tickets are created each month\\xa0for the removal of bulk waste, but Smith reports it could use more in the range of eight to ten bulk tickets a month. Bulk trash sits in a yard with an exterior container before\\xa0it is picked up by the vendor.\\xa0\\xa0\\n\\n\\xa0\\n\\nIn terms of storage and disposing of litter into interior trash\\xa0chutes, there are no additional drop-off sites for residents to use. Tenants are not asked by management to leave their garbage curbside if they choose not to use the chutes, and most tenants\\xa0leave their trash in front of their buildings in exposed trash bags without bins. Waste is stored in front of each building in exposed trash bags at the premises before being moved offsite to the exterior compactors. There are four exterior compactors at Smith. At least one had a hole that required welding at the time of the interview. They intended to reach out to Arrow Steel to mend the hole.\\n\\n\\xa0\\n\\nSmith has two bulk containers and\\xa0twelve interior compactor rooms that were all accessible and working at the time of the Compliance Interview. Smith disposes of 100 – 200 compactor bags (40 lbs. bags) daily.\\xa0When the trash is not able to be removed from the premises, it is able to be stored in a way to prevent pests (e.g., trash bins), according to the Compliance Interview.\\xa0If the trash is not moved from the premises, it goes to EZ Pack containers. The supervisor also stated that\\xa0Smith does not have a pest problem. According to the Rat Reduction Plan, Smith has seen its rat burrows decrease from 148 to 42 as of January 2019. \\n\\n\\n\\nSmith reports that it does not take in neighboring developments waste, but it can take its waste to Riis Houses if necessary. According to the Compliance Interview, there are external sources of trash\\xa0and bulk waste illegally dumped at this site from construction sites, nearby restaurants, and local people. The waste consists mostly of construction material from nearby houses, food, furniture, appliances, and sheetrock. According to Mr.\\xa0Brown, the biggest obstacle the site faced\\xa0is\\xa0that residents bring their trash out after caretakers have already cleaned it up. \\n\\n\\xa0\\n\\nIn a June 24, 2020 report, the Monitor Cleanliness Team gave Smith Houses an A rating.'"
      ]
     },
     "execution_count": 27,
     "metadata": {},
     "output_type": "execute_result"
    }
   ],
   "source": [
    "analysis_text"
   ]
  },
  {
   "cell_type": "code",
   "execution_count": 28,
   "metadata": {},
   "outputs": [],
   "source": [
    "substitutions = {'“':\"``\",\n",
    "                '”': \"''\",\n",
    "                '’':\"'\",\n",
    "                ' ':' ',\n",
    "                '–':'--',\n",
    "                ' ':' ',\n",
    "                '\\xa0':' '}\n",
    "\n",
    "header = re.compile(r'([\\w\\s]*:)')"
   ]
  },
  {
   "cell_type": "code",
   "execution_count": 29,
   "metadata": {},
   "outputs": [],
   "source": [
    "def clean_analysis(analysis_text):\n",
    "    for key, value in substitutions.items():\n",
    "        analysis_text = analysis_text.replace(key, value)\n",
    "    analysis_text = analysis_text.replace(header.findall(analysis_text)[0]+'\\n','')\n",
    "    return analysis_text\n",
    "\n",
    "def format_analysis_block(clean_analysis_text):\n",
    "    latex_block = clean_analysis_text.replace('Inspection and Collection Requirements', \n",
    "                                              '\\emph{Inspection and Collection Requirements}'\n",
    "                                             ).replace('Removal or Storage Requirement',\n",
    "                                                      '\\emph{Removal or Storage Requirement}'\n",
    "                                                      ).replace('Removal and Storage Requirement',\n",
    "                                                               '\\emph{Removal or Storage Requirement}')\n",
    "    return latex_block\n"
   ]
  },
  {
   "cell_type": "code",
   "execution_count": null,
   "metadata": {},
   "outputs": [],
   "source": []
  }
 ],
 "metadata": {
  "kernelspec": {
   "display_name": "Python 3",
   "language": "python",
   "name": "python3"
  },
  "language_info": {
   "codemirror_mode": {
    "name": "ipython",
    "version": 3
   },
   "file_extension": ".py",
   "mimetype": "text/x-python",
   "name": "python",
   "nbconvert_exporter": "python",
   "pygments_lexer": "ipython3",
   "version": "3.7.6"
  }
 },
 "nbformat": 4,
 "nbformat_minor": 4
}
