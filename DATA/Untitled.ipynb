{
 "cells": [
  {
   "cell_type": "code",
   "execution_count": 1,
   "metadata": {},
   "outputs": [],
   "source": [
    "import pandas as pd\n",
    "import numpy as np"
   ]
  },
  {
   "cell_type": "code",
   "execution_count": 19,
   "metadata": {},
   "outputs": [
    {
     "name": "stderr",
     "output_type": "stream",
     "text": [
      "/Users/kyleslugg/opt/anaconda3/lib/python3.7/site-packages/IPython/core/interactiveshell.py:3072: DtypeWarning: Columns (0,1,4) have mixed types.Specify dtype option on import or set low_memory=False.\n",
      "  interactivity=interactivity, compiler=compiler, result=result)\n"
     ]
    }
   ],
   "source": [
    "table = pd.read_csv('_devs_cons_raw.csv')"
   ]
  },
  {
   "cell_type": "code",
   "execution_count": 20,
   "metadata": {},
   "outputs": [
    {
     "data": {
      "text/html": [
       "<div>\n",
       "<style scoped>\n",
       "    .dataframe tbody tr th:only-of-type {\n",
       "        vertical-align: middle;\n",
       "    }\n",
       "\n",
       "    .dataframe tbody tr th {\n",
       "        vertical-align: top;\n",
       "    }\n",
       "\n",
       "    .dataframe thead th {\n",
       "        text-align: right;\n",
       "    }\n",
       "</style>\n",
       "<table border=\"1\" class=\"dataframe\">\n",
       "  <thead>\n",
       "    <tr style=\"text-align: right;\">\n",
       "      <th></th>\n",
       "      <th>DEV_NAME</th>\n",
       "      <th>MANAGED_BY</th>\n",
       "      <th>TDS</th>\n",
       "      <th>CONS_TDS</th>\n",
       "      <th>CONS_NAME</th>\n",
       "    </tr>\n",
       "  </thead>\n",
       "  <tbody>\n",
       "    <tr>\n",
       "      <th>0</th>\n",
       "      <td>1010 EAST 178TH STREET</td>\n",
       "      <td>1010 EAST 178TH STREET</td>\n",
       "      <td>180.0</td>\n",
       "      <td>180.0</td>\n",
       "      <td>1010 EAST 178TH STREET</td>\n",
       "    </tr>\n",
       "    <tr>\n",
       "      <th>1</th>\n",
       "      <td>104-14 TAPSCOTT STREET</td>\n",
       "      <td>REID APARTMENTS</td>\n",
       "      <td>242.0</td>\n",
       "      <td>167.0</td>\n",
       "      <td>REID APARTMENTS CONSOLIDATED</td>\n",
       "    </tr>\n",
       "    <tr>\n",
       "      <th>2</th>\n",
       "      <td>1162-1176 WASHINGTON AVENUE</td>\n",
       "      <td>CLAREMONT CONSOLIDATED</td>\n",
       "      <td>233.0</td>\n",
       "      <td>308.0</td>\n",
       "      <td>CLAREMONT CONSOLIDATED</td>\n",
       "    </tr>\n",
       "    <tr>\n",
       "      <th>3</th>\n",
       "      <td>131 SAINT NICHOLAS AVENUE</td>\n",
       "      <td>TAFT</td>\n",
       "      <td>154.0</td>\n",
       "      <td>97.0</td>\n",
       "      <td>TAFT CONSOLIDATED</td>\n",
       "    </tr>\n",
       "    <tr>\n",
       "      <th>4</th>\n",
       "      <td>1471 WATSON AVENUE</td>\n",
       "      <td>SOTOMAYOR HOUSES</td>\n",
       "      <td>214.0</td>\n",
       "      <td>67.0</td>\n",
       "      <td>SOTOMAYOR HOUSES CONSOLIDATED</td>\n",
       "    </tr>\n",
       "  </tbody>\n",
       "</table>\n",
       "</div>"
      ],
      "text/plain": [
       "                      DEV_NAME              MANAGED_BY    TDS  CONS_TDS  \\\n",
       "0       1010 EAST 178TH STREET  1010 EAST 178TH STREET  180.0     180.0   \n",
       "1       104-14 TAPSCOTT STREET         REID APARTMENTS  242.0     167.0   \n",
       "2  1162-1176 WASHINGTON AVENUE  CLAREMONT CONSOLIDATED  233.0     308.0   \n",
       "3    131 SAINT NICHOLAS AVENUE                    TAFT  154.0      97.0   \n",
       "4           1471 WATSON AVENUE        SOTOMAYOR HOUSES  214.0      67.0   \n",
       "\n",
       "                       CONS_NAME  \n",
       "0         1010 EAST 178TH STREET  \n",
       "1   REID APARTMENTS CONSOLIDATED  \n",
       "2         CLAREMONT CONSOLIDATED  \n",
       "3              TAFT CONSOLIDATED  \n",
       "4  SOTOMAYOR HOUSES CONSOLIDATED  "
      ]
     },
     "execution_count": 20,
     "metadata": {},
     "output_type": "execute_result"
    }
   ],
   "source": [
    "table.head()"
   ]
  },
  {
   "cell_type": "code",
   "execution_count": 21,
   "metadata": {},
   "outputs": [],
   "source": [
    "unique_rows = table.drop_duplicates().dropna()"
   ]
  },
  {
   "cell_type": "code",
   "execution_count": 22,
   "metadata": {},
   "outputs": [
    {
     "data": {
      "text/plain": [
       "(311, 5)"
      ]
     },
     "execution_count": 22,
     "metadata": {},
     "output_type": "execute_result"
    }
   ],
   "source": [
    "unique_rows.shape"
   ]
  },
  {
   "cell_type": "code",
   "execution_count": 23,
   "metadata": {},
   "outputs": [
    {
     "data": {
      "text/html": [
       "<div>\n",
       "<style scoped>\n",
       "    .dataframe tbody tr th:only-of-type {\n",
       "        vertical-align: middle;\n",
       "    }\n",
       "\n",
       "    .dataframe tbody tr th {\n",
       "        vertical-align: top;\n",
       "    }\n",
       "\n",
       "    .dataframe thead th {\n",
       "        text-align: right;\n",
       "    }\n",
       "</style>\n",
       "<table border=\"1\" class=\"dataframe\">\n",
       "  <thead>\n",
       "    <tr style=\"text-align: right;\">\n",
       "      <th></th>\n",
       "      <th>DEV_NAME</th>\n",
       "      <th>MANAGED_BY</th>\n",
       "      <th>TDS</th>\n",
       "      <th>CONS_TDS</th>\n",
       "      <th>CONS_NAME</th>\n",
       "    </tr>\n",
       "  </thead>\n",
       "  <tbody>\n",
       "    <tr>\n",
       "      <th>0</th>\n",
       "      <td>1010 EAST 178TH STREET</td>\n",
       "      <td>1010 EAST 178TH STREET</td>\n",
       "      <td>180.0</td>\n",
       "      <td>180.0</td>\n",
       "      <td>1010 EAST 178TH STREET</td>\n",
       "    </tr>\n",
       "    <tr>\n",
       "      <th>1</th>\n",
       "      <td>104-14 TAPSCOTT STREET</td>\n",
       "      <td>REID APARTMENTS</td>\n",
       "      <td>242.0</td>\n",
       "      <td>167.0</td>\n",
       "      <td>REID APARTMENTS CONSOLIDATED</td>\n",
       "    </tr>\n",
       "    <tr>\n",
       "      <th>2</th>\n",
       "      <td>1162-1176 WASHINGTON AVENUE</td>\n",
       "      <td>CLAREMONT CONSOLIDATED</td>\n",
       "      <td>233.0</td>\n",
       "      <td>308.0</td>\n",
       "      <td>CLAREMONT CONSOLIDATED</td>\n",
       "    </tr>\n",
       "    <tr>\n",
       "      <th>3</th>\n",
       "      <td>131 SAINT NICHOLAS AVENUE</td>\n",
       "      <td>TAFT</td>\n",
       "      <td>154.0</td>\n",
       "      <td>97.0</td>\n",
       "      <td>TAFT CONSOLIDATED</td>\n",
       "    </tr>\n",
       "    <tr>\n",
       "      <th>4</th>\n",
       "      <td>1471 WATSON AVENUE</td>\n",
       "      <td>SOTOMAYOR HOUSES</td>\n",
       "      <td>214.0</td>\n",
       "      <td>67.0</td>\n",
       "      <td>SOTOMAYOR HOUSES CONSOLIDATED</td>\n",
       "    </tr>\n",
       "  </tbody>\n",
       "</table>\n",
       "</div>"
      ],
      "text/plain": [
       "                      DEV_NAME              MANAGED_BY    TDS  CONS_TDS  \\\n",
       "0       1010 EAST 178TH STREET  1010 EAST 178TH STREET  180.0     180.0   \n",
       "1       104-14 TAPSCOTT STREET         REID APARTMENTS  242.0     167.0   \n",
       "2  1162-1176 WASHINGTON AVENUE  CLAREMONT CONSOLIDATED  233.0     308.0   \n",
       "3    131 SAINT NICHOLAS AVENUE                    TAFT  154.0      97.0   \n",
       "4           1471 WATSON AVENUE        SOTOMAYOR HOUSES  214.0      67.0   \n",
       "\n",
       "                       CONS_NAME  \n",
       "0         1010 EAST 178TH STREET  \n",
       "1   REID APARTMENTS CONSOLIDATED  \n",
       "2         CLAREMONT CONSOLIDATED  \n",
       "3              TAFT CONSOLIDATED  \n",
       "4  SOTOMAYOR HOUSES CONSOLIDATED  "
      ]
     },
     "execution_count": 23,
     "metadata": {},
     "output_type": "execute_result"
    }
   ],
   "source": [
    "unique_rows.head()"
   ]
  },
  {
   "cell_type": "code",
   "execution_count": 24,
   "metadata": {},
   "outputs": [],
   "source": [
    "unique_rows['TDS'] = unique_rows['TDS'].apply(lambda z: str(int(z)).zfill(3))\n",
    "unique_rows['CONS_TDS'] = unique_rows['CONS_TDS'].apply(lambda z: str(int(z)).zfill(3))"
   ]
  },
  {
   "cell_type": "code",
   "execution_count": 25,
   "metadata": {},
   "outputs": [
    {
     "data": {
      "text/html": [
       "<div>\n",
       "<style scoped>\n",
       "    .dataframe tbody tr th:only-of-type {\n",
       "        vertical-align: middle;\n",
       "    }\n",
       "\n",
       "    .dataframe tbody tr th {\n",
       "        vertical-align: top;\n",
       "    }\n",
       "\n",
       "    .dataframe thead th {\n",
       "        text-align: right;\n",
       "    }\n",
       "</style>\n",
       "<table border=\"1\" class=\"dataframe\">\n",
       "  <thead>\n",
       "    <tr style=\"text-align: right;\">\n",
       "      <th></th>\n",
       "      <th>DEV_NAME</th>\n",
       "      <th>MANAGED_BY</th>\n",
       "      <th>TDS</th>\n",
       "      <th>CONS_TDS</th>\n",
       "      <th>CONS_NAME</th>\n",
       "    </tr>\n",
       "  </thead>\n",
       "  <tbody>\n",
       "    <tr>\n",
       "      <th>0</th>\n",
       "      <td>1010 EAST 178TH STREET</td>\n",
       "      <td>1010 EAST 178TH STREET</td>\n",
       "      <td>180</td>\n",
       "      <td>180</td>\n",
       "      <td>1010 EAST 178TH STREET</td>\n",
       "    </tr>\n",
       "    <tr>\n",
       "      <th>1</th>\n",
       "      <td>104-14 TAPSCOTT STREET</td>\n",
       "      <td>REID APARTMENTS</td>\n",
       "      <td>242</td>\n",
       "      <td>167</td>\n",
       "      <td>REID APARTMENTS CONSOLIDATED</td>\n",
       "    </tr>\n",
       "    <tr>\n",
       "      <th>2</th>\n",
       "      <td>1162-1176 WASHINGTON AVENUE</td>\n",
       "      <td>CLAREMONT CONSOLIDATED</td>\n",
       "      <td>233</td>\n",
       "      <td>308</td>\n",
       "      <td>CLAREMONT CONSOLIDATED</td>\n",
       "    </tr>\n",
       "    <tr>\n",
       "      <th>3</th>\n",
       "      <td>131 SAINT NICHOLAS AVENUE</td>\n",
       "      <td>TAFT</td>\n",
       "      <td>154</td>\n",
       "      <td>097</td>\n",
       "      <td>TAFT CONSOLIDATED</td>\n",
       "    </tr>\n",
       "    <tr>\n",
       "      <th>4</th>\n",
       "      <td>1471 WATSON AVENUE</td>\n",
       "      <td>SOTOMAYOR HOUSES</td>\n",
       "      <td>214</td>\n",
       "      <td>067</td>\n",
       "      <td>SOTOMAYOR HOUSES CONSOLIDATED</td>\n",
       "    </tr>\n",
       "  </tbody>\n",
       "</table>\n",
       "</div>"
      ],
      "text/plain": [
       "                      DEV_NAME              MANAGED_BY  TDS CONS_TDS  \\\n",
       "0       1010 EAST 178TH STREET  1010 EAST 178TH STREET  180      180   \n",
       "1       104-14 TAPSCOTT STREET         REID APARTMENTS  242      167   \n",
       "2  1162-1176 WASHINGTON AVENUE  CLAREMONT CONSOLIDATED  233      308   \n",
       "3    131 SAINT NICHOLAS AVENUE                    TAFT  154      097   \n",
       "4           1471 WATSON AVENUE        SOTOMAYOR HOUSES  214      067   \n",
       "\n",
       "                       CONS_NAME  \n",
       "0         1010 EAST 178TH STREET  \n",
       "1   REID APARTMENTS CONSOLIDATED  \n",
       "2         CLAREMONT CONSOLIDATED  \n",
       "3              TAFT CONSOLIDATED  \n",
       "4  SOTOMAYOR HOUSES CONSOLIDATED  "
      ]
     },
     "execution_count": 25,
     "metadata": {},
     "output_type": "execute_result"
    }
   ],
   "source": [
    "unique_rows.head()"
   ]
  },
  {
   "cell_type": "code",
   "execution_count": 26,
   "metadata": {},
   "outputs": [],
   "source": [
    "unique_rows.to_csv('DEVS_TO_CONSOLIDATION.csv')"
   ]
  },
  {
   "cell_type": "code",
   "execution_count": 29,
   "metadata": {},
   "outputs": [],
   "source": [
    "cons = unique_rows[['CONS_NAME','CONS_TDS']].drop_duplicates()"
   ]
  },
  {
   "cell_type": "code",
   "execution_count": 30,
   "metadata": {},
   "outputs": [
    {
     "data": {
      "text/html": [
       "<div>\n",
       "<style scoped>\n",
       "    .dataframe tbody tr th:only-of-type {\n",
       "        vertical-align: middle;\n",
       "    }\n",
       "\n",
       "    .dataframe tbody tr th {\n",
       "        vertical-align: top;\n",
       "    }\n",
       "\n",
       "    .dataframe thead th {\n",
       "        text-align: right;\n",
       "    }\n",
       "</style>\n",
       "<table border=\"1\" class=\"dataframe\">\n",
       "  <thead>\n",
       "    <tr style=\"text-align: right;\">\n",
       "      <th></th>\n",
       "      <th>CONS_NAME</th>\n",
       "      <th>CONS_TDS</th>\n",
       "    </tr>\n",
       "  </thead>\n",
       "  <tbody>\n",
       "    <tr>\n",
       "      <th>0</th>\n",
       "      <td>1010 EAST 178TH STREET</td>\n",
       "      <td>180</td>\n",
       "    </tr>\n",
       "    <tr>\n",
       "      <th>1</th>\n",
       "      <td>REID APARTMENTS CONSOLIDATED</td>\n",
       "      <td>167</td>\n",
       "    </tr>\n",
       "    <tr>\n",
       "      <th>2</th>\n",
       "      <td>CLAREMONT CONSOLIDATED</td>\n",
       "      <td>308</td>\n",
       "    </tr>\n",
       "    <tr>\n",
       "      <th>3</th>\n",
       "      <td>TAFT CONSOLIDATED</td>\n",
       "      <td>097</td>\n",
       "    </tr>\n",
       "    <tr>\n",
       "      <th>4</th>\n",
       "      <td>SOTOMAYOR HOUSES CONSOLIDATED</td>\n",
       "      <td>067</td>\n",
       "    </tr>\n",
       "  </tbody>\n",
       "</table>\n",
       "</div>"
      ],
      "text/plain": [
       "                       CONS_NAME CONS_TDS\n",
       "0         1010 EAST 178TH STREET      180\n",
       "1   REID APARTMENTS CONSOLIDATED      167\n",
       "2         CLAREMONT CONSOLIDATED      308\n",
       "3              TAFT CONSOLIDATED      097\n",
       "4  SOTOMAYOR HOUSES CONSOLIDATED      067"
      ]
     },
     "execution_count": 30,
     "metadata": {},
     "output_type": "execute_result"
    }
   ],
   "source": [
    "cons.head()"
   ]
  },
  {
   "cell_type": "code",
   "execution_count": 32,
   "metadata": {},
   "outputs": [
    {
     "data": {
      "text/plain": [
       "(141, 2)"
      ]
     },
     "execution_count": 32,
     "metadata": {},
     "output_type": "execute_result"
    }
   ],
   "source": [
    "cons.shape"
   ]
  },
  {
   "cell_type": "code",
   "execution_count": 33,
   "metadata": {},
   "outputs": [],
   "source": [
    "cons.to_csv('CONS_NAME_TDS.csv')"
   ]
  },
  {
   "cell_type": "code",
   "execution_count": null,
   "metadata": {},
   "outputs": [],
   "source": []
  }
 ],
 "metadata": {
  "kernelspec": {
   "display_name": "Python 3",
   "language": "python",
   "name": "python3"
  },
  "language_info": {
   "codemirror_mode": {
    "name": "ipython",
    "version": 3
   },
   "file_extension": ".py",
   "mimetype": "text/x-python",
   "name": "python",
   "nbconvert_exporter": "python",
   "pygments_lexer": "ipython3",
   "version": "3.7.6"
  }
 },
 "nbformat": 4,
 "nbformat_minor": 4
}
